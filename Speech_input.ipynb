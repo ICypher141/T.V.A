{
 "cells": [
  {
   "cell_type": "code",
   "execution_count": 1,
   "metadata": {},
   "outputs": [],
   "source": [
    "import speech_recognition as sr\n",
    "import spacy\n",
    "from astroquery.simbad import Simbad"
   ]
  },
  {
   "cell_type": "code",
   "execution_count": null,
   "metadata": {},
   "outputs": [],
   "source": [
    "\n",
    "\n",
    "# Load the spaCy language model\n",
    "nlp = spacy.load(\"custom_celestial_ner\")\n",
    "\n",
    "# Simbad query function to fetch celestial object coordinates\n",
    "def fetch_celestial_object_coordinates(object_name):\n",
    "    try:\n",
    "        result_table = Simbad.query_object(object_name)\n",
    "        if result_table:\n",
    "            ra = result_table['RA'][0]  # Right Ascension\n",
    "            dec = result_table['DEC'][0]  # Declination\n",
    "            return {\"RA\": ra, \"Dec\": dec}\n",
    "        else:\n",
    "            return None\n",
    "    except Exception as e:\n",
    "        print(f\"Error fetching data from Simbad: {e}\")\n",
    "        return None\n",
    "\n",
    "# Function to parse the recognized command\n",
    "def parse_command(command):\n",
    "    doc = nlp(command)\n",
    "    intent = None\n",
    "    object_name = None\n",
    "    \n",
    "    # Extract intent based on keywords\n",
    "    for token in doc:\n",
    "        if token.lemma_ in [\"find\", \"point\", \"show\" ,\"give\"]:\n",
    "            intent = token.lemma_\n",
    "            \n",
    "    # Extract potential celestial object name (proper nouns)\n",
    "    for ent in doc.ents:\n",
    "        if ent.label_ == \"CELESTIAL_OBJECT\":  \n",
    "            object_name = ent.text\n",
    "    \n",
    "    return intent, object_name\n"
   ]
  },
  {
   "cell_type": "code",
   "execution_count": 3,
   "metadata": {},
   "outputs": [],
   "source": [
    "# Function to capture audio, recognize speech, and process commands\n",
    "def listen_and_recognize():\n",
    "    recognizer = sr.Recognizer()\n",
    "    \n",
    "    with sr.Microphone() as source:\n",
    "        print(\"Adjusting for background noise...\")\n",
    "        recognizer.adjust_for_ambient_noise(source)\n",
    "        print(\"Please speak for 5 seconds...\")\n",
    "        \n",
    "        try:\n",
    "            # Capture the audio for a maximum of 5 seconds\n",
    "            audio = recognizer.listen(source, timeout=5, phrase_time_limit=5)\n",
    "            print(\"Processing audio...\")\n",
    "            \n",
    "            # Recognize the speech using Google Speech Recognition API\n",
    "            command = recognizer.recognize_google(audio)\n",
    "            print(f\"Recognized command: {command}\")\n",
    "            \n",
    "            # Parse the recognized text\n",
    "            intent, object_name = parse_command(command)\n",
    "            if intent and object_name:\n",
    "                # Fetch celestial object coordinates dynamically from Simbad\n",
    "                coordinates = fetch_celestial_object_coordinates(object_name)\n",
    "                if coordinates:\n",
    "                    print(f\"Pointing to {object_name} at RA: {coordinates['RA']}, Dec: {coordinates['Dec']}\")\n",
    "                    # Send coordinates to the telescope controller (future step)\n",
    "                else:\n",
    "                    print(f\"Sorry, {object_name} is not recognized as a celestial object in Simbad.\")\n",
    "            else:\n",
    "                print(\"Command not understood.\")\n",
    "        \n",
    "        except sr.WaitTimeoutError:\n",
    "            print(\"Timeout: No speech detected in 5 seconds.\")\n",
    "        except sr.UnknownValueError:\n",
    "            print(\"Sorry, I could not understand the audio.\")\n",
    "        except sr.RequestError as e:\n",
    "            print(f\"Could not request results from Google Speech Recognition service; {e}\")\n",
    "\n"
   ]
  },
  {
   "cell_type": "code",
   "execution_count": 12,
   "metadata": {},
   "outputs": [
    {
     "name": "stdout",
     "output_type": "stream",
     "text": [
      "Adjusting for background noise...\n",
      "Please speak for 5 seconds...\n",
      "Processing audio...\n",
      "Recognized command: find me m29\n",
      "Pointing to m29 at RA: 20 23 46, Dec: +38 29.2\n"
     ]
    }
   ],
   "source": [
    "if __name__ == \"__main__\":\n",
    "    listen_and_recognize()"
   ]
  }
 ],
 "metadata": {
  "kernelspec": {
   "display_name": "Python 3",
   "language": "python",
   "name": "python3"
  },
  "language_info": {
   "codemirror_mode": {
    "name": "ipython",
    "version": 3
   },
   "file_extension": ".py",
   "mimetype": "text/x-python",
   "name": "python",
   "nbconvert_exporter": "python",
   "pygments_lexer": "ipython3",
   "version": "3.12.3"
  }
 },
 "nbformat": 4,
 "nbformat_minor": 2
}
